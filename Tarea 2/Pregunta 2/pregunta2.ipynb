{
 "cells": [
  {
   "cell_type": "markdown",
   "metadata": {},
   "source": [
    "## Pregunta 2\n",
    "### Jorge Schenke Larraín.\n",
    "### n° de alumno: 17641624"
   ]
  },
  {
   "cell_type": "markdown",
   "metadata": {},
   "source": [
    "#### Importamos librerías"
   ]
  },
  {
   "cell_type": "code",
   "execution_count": 1,
   "metadata": {},
   "outputs": [],
   "source": [
    "import random\n",
    "import math"
   ]
  },
  {
   "cell_type": "markdown",
   "metadata": {},
   "source": [
    "#### Primalidad"
   ]
  },
  {
   "cell_type": "code",
   "execution_count": 2,
   "metadata": {},
   "outputs": [],
   "source": [
    "first_primes_list = [2, 3, 5, 7, 11, 13, 17, 19, 23, 29,\n",
    "                    31, 37, 41, 43, 47, 53, 59, 61, 67,\n",
    "                    71, 73, 79, 83, 89, 97, 101, 103,\n",
    "                    107, 109, 113, 127, 131, 137, 139,\n",
    "                    149, 151, 157, 163, 167, 173, 179,\n",
    "                    181, 191, 193, 197, 199, 211, 223,\n",
    "                    227, 229, 233, 239, 241, 251, 257,\n",
    "                    263, 269, 271, 277, 281, 283, 293,\n",
    "                    307, 311, 313, 317, 331, 337, 347, 349]                #Primeros 100 primos para confirmar que un número es candidato a primo"
   ]
  },
  {
   "cell_type": "code",
   "execution_count": 3,
   "metadata": {},
   "outputs": [],
   "source": [
    "def isMillerRabinPassed(miller_rabin_candidate):                 #Test de primalidad de Miller-Rabin solo se correrá si no es divisible por ninguno de los primeros 100 primos\n",
    "    maxDivisionsByTwo = 0\n",
    "    evenComponent = miller_rabin_candidate-1\n",
    "    while evenComponent % 2 == 0:\n",
    "        evenComponent >>= 1\n",
    "        maxDivisionsByTwo += 1\n",
    "    assert(2**maxDivisionsByTwo * evenComponent == miller_rabin_candidate-1)\n",
    "    def trialComposite(round_tester):\n",
    "        if pow(round_tester, evenComponent, \n",
    "                miller_rabin_candidate) == 1:\n",
    "            return False\n",
    "        for i in range(maxDivisionsByTwo):\n",
    "            if pow(round_tester, 2**i * evenComponent, miller_rabin_candidate) == miller_rabin_candidate-1:\n",
    "                return False\n",
    "        return True\n",
    "    numberOfRabinTrials = 20\n",
    "    for i in range(numberOfRabinTrials):\n",
    "        round_tester = random.randrange(2, miller_rabin_candidate)\n",
    "        if trialComposite(round_tester):\n",
    "            return False\n",
    "    return True"
   ]
  },
  {
   "cell_type": "code",
   "execution_count": 4,
   "metadata": {},
   "outputs": [],
   "source": [
    "def is_prime( n):\n",
    "    for prime in first_primes_list:\n",
    "        if n % prime == 0:\n",
    "            return False                #Si es divisible por alguno de los 1ros 100 primos, no es primo\n",
    "    if isMillerRabinPassed(n):                #Test de primalidad no asegura primalidad pero es altamente probable\n",
    "        return True"
   ]
  },
  {
   "cell_type": "markdown",
   "metadata": {},
   "source": [
    "#### MCD"
   ]
  },
  {
   "cell_type": "code",
   "execution_count": 5,
   "metadata": {},
   "outputs": [],
   "source": [
    "def gcd1(x, y):        #MCD\n",
    "    if(y==0):\n",
    "        return x\n",
    "    else:\n",
    "        return gcd1(y,x%y)"
   ]
  },
  {
   "cell_type": "markdown",
   "metadata": {},
   "source": [
    "#### Inverso modular"
   ]
  },
  {
   "cell_type": "code",
   "execution_count": 6,
   "metadata": {},
   "outputs": [],
   "source": [
    "def alg_ext_euclides(a: int, b: int):        #Algoritmo extendido de Euclides para encontrar inversos modulares\n",
    "    r_0 = a\n",
    "    s_0 = 1\n",
    "    t_0 = 0\n",
    "    r_1 = b\n",
    "    s_1 = 0\n",
    "    t_1 = 1\n",
    "    while r_1 > 0:\n",
    "        r_2 = r_0 % r_1\n",
    "        s_2 = s_0 - (r_0 // r_1) * s_1\n",
    "        t_2 = t_0 - (r_0 // r_1) * t_1\n",
    "        r_0 = r_1\n",
    "        s_0 = s_1\n",
    "        t_0 = t_1\n",
    "        r_1 = r_2\n",
    "        s_1 = s_2\n",
    "        t_1 = t_2\n",
    "    return r_0, s_0, t_0\n",
    "\n",
    "def inverso(a: int, n: int) -> int:\n",
    "    (r, s, t) = alg_ext_euclides(a, n)\n",
    "    return s % n"
   ]
  },
  {
   "cell_type": "markdown",
   "metadata": {},
   "source": [
    "### RSAReceiver"
   ]
  },
  {
   "cell_type": "code",
   "execution_count": 7,
   "metadata": {},
   "outputs": [],
   "source": [
    "class RSAReceiver:\n",
    "    def __init__(self, bit_len):\n",
    "        self.bit_len = bit_len\n",
    "        self.p = self.generate_prime()    #P\n",
    "        self.q = self.generate_prime()    #Q\n",
    "        self.n = self.p * self.q    #N\n",
    "        self.phin = (self.p-1) * (self.q-1)    #Phi(N)\n",
    "        self.d = self.generate_d()    #D\n",
    "        self.e = self.generate_e()    #E\n",
    "\n",
    "    def generate_prime(self):\n",
    "        while True:\n",
    "            p = random.randint(2**((self.bit_len//2 + 1)-1), 2**(self.bit_len//2 + 1))    #Generamos un número al azar de len_n/2 +1 largo en bi\n",
    "            if is_prime(p):    #Revisamos si es primo\n",
    "                return p\n",
    "\n",
    "    def generate_d(self):\n",
    "        while True:\n",
    "            d = random.randint(2**((self.bit_len//2 + 1)-1), 2**(self.bit_len//2 + 1))    #Generamos un número al azar de len_n/2 +1 largo en bits\n",
    "            if gcd1(d, self.phin) == 1:    #Revisamos si es coprimo de Phi(N)\n",
    "                return d\n",
    "\n",
    "    def generate_e(self):\n",
    "        e = inverso(self.d, self.phin)    #Calculamos inverso modular de D y asignaos a E\n",
    "        return e\n",
    "\n",
    "    def get_public_key(self):    #Concatena E y N según especificación para crear llave pública\n",
    "        len_e = len(bin(self.e)) // 8\n",
    "        if len(bin(self.e)) % 8 != 0:\n",
    "            len_e += 1\n",
    "        e_bytes = bytearray((self.e).to_bytes(len_e, 'big'))\n",
    "        e_len = len(e_bytes)\n",
    "        e_len_bytes = e_len.to_bytes(4, 'big')\n",
    "        len_n = len(bin(self.n)) // 8\n",
    "        if len(bin(self.n)) % 8 != 0:\n",
    "            len_n += 1\n",
    "        n_bytes = bytearray((self.n).to_bytes(len_n, 'big'))\n",
    "        n_len = len(n_bytes)\n",
    "        n_len_bytes = n_len.to_bytes(4, 'big')\n",
    "        public_key = e_len_bytes + e_bytes + n_len_bytes + n_bytes\n",
    "        return public_key\n",
    "\n",
    "    def decrypt(self, ciphertext):\n",
    "        string = []    #Creamos lista vacía de strings\n",
    "        len_n = len(bin(self.n))    #Calculamos largo de los bloques\n",
    "        n = 1\n",
    "        while n*8 < len_n:\n",
    "            n += 1\n",
    "        len_c = len(ciphertext)    #Calculamos largo del cifrado\n",
    "        n_blocks = len_c // n    #Calculamos cantidad de bloques\n",
    "        for i in range(n_blocks):    #Por cada bloque:\n",
    "            block = ciphertext[i*n:(i+1)*n]\n",
    "            block_int = int.from_bytes(block, 'big')    #Lo pasamos a int\n",
    "            block_int = pow(block_int, self.d, self.n)    #Calculamos int ^ d % n\n",
    "            msg_block_bytes = block_int.to_bytes(n, 'big')    #Pasamos entero a bytes\n",
    "            msg_block = msg_block_bytes.decode('utf-8')    #Decodificamos a string\n",
    "            string.append(msg_block)    #Agregamos string a lista\n",
    "        msg = ''.join(string)    #Unimos strings\n",
    "        return msg"
   ]
  },
  {
   "cell_type": "markdown",
   "metadata": {},
   "source": [
    "### RSASender"
   ]
  },
  {
   "cell_type": "code",
   "execution_count": 8,
   "metadata": {},
   "outputs": [],
   "source": [
    "class RSASender:\n",
    "    def __init__(self, public_key):\n",
    "        self.public_key = public_key\n",
    "        self.e, self.n = self.get_e_n()\n",
    "        self.bit_len = math.ceil(math.log(self.n)/math.log(2))\n",
    "    \n",
    "    def get_e_n(self):\n",
    "        e_len_bytes = self.public_key[0:4]    #Buscamos largo de e en bytes\n",
    "        e_len = int.from_bytes(e_len_bytes, 'big')    #Pasamos largo a int\n",
    "        e_bytes = self.public_key[4:4+e_len]    #Según el largo, extraemos los bytes de e\n",
    "        e = int.from_bytes(e_bytes, 'big')    #Pasamos e a int\n",
    "        n_len_bytes = self.public_key[4+e_len:8+e_len]    #Largo de n en bytes\n",
    "        n_len = int.from_bytes(n_len_bytes, 'big')    #Largo de n a int\n",
    "        n_bytes = self.public_key[8+e_len:8+e_len+n_len]    #n en bytes\n",
    "        n = int.from_bytes(n_bytes, 'big')    #n en int\n",
    "        return e, n\n",
    "    \n",
    "    def encrypt(self, msg):\n",
    "        len_n = len(bin(self.n))    #Calculamos largo de n en bits\n",
    "        n = 1\n",
    "        while n*8 < len_n:    #Calculamos largo del bloque\n",
    "            n += 1\n",
    "        n -= 1\n",
    "        msg_array = bytearray()    #Inicializamos array de bytes vacío\n",
    "        msg_bytes = bytearray(msg.encode('utf-8'))    #Codificamos el mensaje en UTF-8\n",
    "        msg_len = len(msg_bytes)    #Calculamos largo del ensaje en bytes\n",
    "        n_blocks = msg_len // n    #Calculamos número de bloques\n",
    "        if msg_len % n != 0:\n",
    "            n_blocks += 1\n",
    "        for i in range(n_blocks):    #Para cada bloque:\n",
    "            msg_block = msg_bytes[i*n:(i+1)*n]    #Extraemos el bloque del mensaje\n",
    "            msg_int = int.from_bytes(msg_block, 'big')    #Pasamos el bloque a int\n",
    "            cipher_int = pow(msg_int, self.e, self.n)    #Calculamos m ^ e % n\n",
    "            cipher_bytes = cipher_int.to_bytes(n + 1, 'big')    #Pasamos el cifrado a bytes\n",
    "            msg_array += cipher_bytes    #Agregamos a lista de bytes\n",
    "        return msg_array"
   ]
  },
  {
   "cell_type": "markdown",
   "metadata": {},
   "source": [
    "#### Ejemplo"
   ]
  },
  {
   "cell_type": "code",
   "execution_count": 9,
   "metadata": {},
   "outputs": [
    {
     "name": "stdout",
     "output_type": "stream",
     "text": [
      "Mensaje secreto: \u0000\u0000\u0000\u0000\u0000\u0000\u0000\u0000\u0000\u0000\u0000\u0000\u0000\u0000\u0000\u0000\u0000\u0000\u0000\u0000\u0000\u0000\u0000\u0000\u0000\u0000\u0000\u0000\u0000\u0000\u0000\u0000\u0000\u0000\u0000\u0000\u0000\u0000\u0000\u0000\u0000\u0000\u0000\u0000\u0000\u0000\u0000\u0000\u0000\u0000\u0000\u0000\u0000\u0000\u0000\u0000\u0000\u0000\u0000\u0000Being open source means anyone can independently review the code. If it was closed source, nobody could verify the security. I think it’s essential for a program of this nature to be open source.\n"
     ]
    }
   ],
   "source": [
    "Rec = RSAReceiver(2048)\n",
    "Enc = RSASender(Rec.get_public_key())\n",
    "cipher = Enc.encrypt('Being open source means anyone can independently review '\n",
    "    'the code. If it was closed source, nobody could verify the '\n",
    "    'security. I think it’s essential for a program of this '\n",
    "    'nature to be open source.')\n",
    "print(f\"Mensaje secreto: {Rec.decrypt(cipher)}\")"
   ]
  },
  {
   "cell_type": "code",
   "execution_count": null,
   "metadata": {},
   "outputs": [],
   "source": []
  }
 ],
 "metadata": {
  "kernelspec": {
   "display_name": "Python 3",
   "language": "python",
   "name": "python3"
  },
  "language_info": {
   "codemirror_mode": {
    "name": "ipython",
    "version": 3
   },
   "file_extension": ".py",
   "mimetype": "text/x-python",
   "name": "python",
   "nbconvert_exporter": "python",
   "pygments_lexer": "ipython3",
   "version": "3.7.8"
  }
 },
 "nbformat": 4,
 "nbformat_minor": 4
}
