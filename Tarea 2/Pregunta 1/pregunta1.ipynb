{
 "cells": [
  {
   "cell_type": "markdown",
   "metadata": {},
   "source": [
    "# Pregunta 1"
   ]
  },
  {
   "cell_type": "markdown",
   "metadata": {},
   "source": [
    "### Librerías necesarias"
   ]
  },
  {
   "cell_type": "code",
   "execution_count": 205,
   "metadata": {},
   "outputs": [],
   "source": [
    "from Crypto.Cipher import AES"
   ]
  },
  {
   "cell_type": "markdown",
   "metadata": {},
   "source": [
    "### Función de compresión Davies-Meyer"
   ]
  },
  {
   "cell_type": "code",
   "execution_count": 206,
   "metadata": {},
   "outputs": [],
   "source": [
    "def davies_meyer(encrypt, l_key, l_message):\n",
    "    def prev(message):\n",
    "        key_bits = message[0:l_key]                #Separamos el mensaje según el largo de la llave\n",
    "        msg_bits = message[l_key:]\n",
    "        key = int.from_bytes(key_bits, byteorder='big')                #Pasamos la llave y el mensaje a enteros\n",
    "        msg = int.from_bytes(msg_bits, byteorder='big')\n",
    "        cript = int.from_bytes(encrypt(key_bits, msg_bits), byteorder='big')                #Encriptamos con la función entregada\n",
    "        res = cript ^ msg                #Ejectuamos xor entre el encriptado y el mensaje\n",
    "        res_bytes = res.to_bytes(l_message, byteorder='big')                #Pasamos resultado a bytes\n",
    "        return bytearray(res_bytes)\n",
    "    return prev"
   ]
  },
  {
   "cell_type": "markdown",
   "metadata": {},
   "source": [
    "#### Ejemplo con AES:"
   ]
  },
  {
   "cell_type": "code",
   "execution_count": 207,
   "metadata": {},
   "outputs": [],
   "source": [
    "def AES_128(key: bytearray, message: bytearray) -> bytearray:\n",
    "    a = AES.new(key, AES.MODE_ECB)\n",
    "    return bytearray(a.encrypt(message))"
   ]
  },
  {
   "cell_type": "code",
   "execution_count": 208,
   "metadata": {},
   "outputs": [
    {
     "name": "stdout",
     "output_type": "stream",
     "text": [
      "bytearray(b'\\x17L\\xb4\\xe7\\xf6\\xcew\\xcc\\xe8\\xba\\x12F\\xb7\\xd4\\xb6r')\n"
     ]
    }
   ],
   "source": [
    "ejemplo = davies_meyer(AES_128, 16, 16)\n",
    "print(ejemplo(bytearray(b'01234567890123440123456789012344')))"
   ]
  },
  {
   "cell_type": "markdown",
   "metadata": {},
   "source": [
    "### Padding"
   ]
  },
  {
   "cell_type": "code",
   "execution_count": 209,
   "metadata": {},
   "outputs": [],
   "source": [
    "def pad(message, l_block):\n",
    "    l_message = len(message)                #Largo del mensaje\n",
    "    l_message_byte = bytearray(l_message.to_bytes(l_block, \"big\"))                #Mensaje a bytearray\n",
    "    l_padding = 0\n",
    "    if l_message % l_block != 0 and l_message > 0:                #Revisamos si el largo del mensaje es múltiplo del largo del bloque o es 0\n",
    "        l_padding = l_block - (l_message % l_block)\n",
    "    elif l_message % l_block != 0 and l_message == 0:\n",
    "        l_padding = l_block\n",
    "    zero = 0\n",
    "    one = 1\n",
    "    message_cpy = message.copy()\n",
    "    for i in range(l_padding):                #Agregamos padding según lo necesario\n",
    "        if i == 0:\n",
    "            message_cpy += one.to_bytes(1, byteorder=\"big\")                #1 inicial en el padding\n",
    "        else:\n",
    "            message_cpy += (zero.to_bytes(1, byteorder='big'))\n",
    "    message_cpy += (l_message_byte)                #Largo del mensaje en el bloque final\n",
    "    return message_cpy"
   ]
  },
  {
   "cell_type": "markdown",
   "metadata": {},
   "source": [
    "#### Ejemplo de padding"
   ]
  },
  {
   "cell_type": "code",
   "execution_count": 210,
   "metadata": {},
   "outputs": [
    {
     "name": "stdout",
     "output_type": "stream",
     "text": [
      "bytearray(b'012345678901234567890123456789012345678901234567890123456789012345678901234567890123456789012345678901234567890123456789012345678901234567890123456789012345678901234567890123456789012345678901234567890123456789012345678901234567890123456789012345678901234567890123456789012345678901234567890123456789\\x01\\x00\\x00\\x00\\x00\\x00\\x00\\x00\\x00\\x00\\x00\\x00\\x00\\x00\\x00\\x00\\x00\\x00\\x01,')\n"
     ]
    }
   ],
   "source": [
    "print(pad(bytearray(b'012345678901234567890123456789012345678901234567890123456789012345678901234567890123456789012345678901234567890123456789012345678901234567890123456789012345678901234567890123456789012345678901234567890123456789012345678901234567890123456789012345678901234567890123456789012345678901234567890123456789'), 16))"
   ]
  },
  {
   "cell_type": "markdown",
   "metadata": {},
   "source": [
    "### Merkle-Damgard"
   ]
  },
  {
   "cell_type": "code",
   "execution_count": 211,
   "metadata": {},
   "outputs": [],
   "source": [
    "def merkle_damgard(IV, comp, l_block):\n",
    "    def compression(message):\n",
    "        H = IV                #Definimos H como H0 entregado\n",
    "        msg = pad(message, l_block)                #aplicamos pad al mensaje a comprimir\n",
    "        l_message = len(msg)\n",
    "        rounds = int(len(msg)/l_block)                #Calculamos la cantidad de rondas según el largo del mensaje y los bloques\n",
    "        for i in range (0, rounds):                #Por cada ronda:\n",
    "            union = msg[(i)*l_block:(i+1)*l_block] + H                #Unimos el trozo correspondiente del mensaje con el H\n",
    "            H = comp(union)                #Actualizamos el H utilizando la unión y la función de compresión.\n",
    "        return H                #Finalmente, retornemos el mensaje\n",
    "    return compression                #Retornamos la función"
   ]
  },
  {
   "cell_type": "markdown",
   "metadata": {},
   "source": [
    "#### Ejemplo de prueba con AES y largo 16"
   ]
  },
  {
   "cell_type": "code",
   "execution_count": 212,
   "metadata": {},
   "outputs": [
    {
     "name": "stdout",
     "output_type": "stream",
     "text": [
      "bytearray(b'\\xe9\\xe8\\xac\\x12\\\\\\xf2\\xc8\\x16\\xceOV\\xc5Y.T\\xea')\n",
      "bytearray(b'\\xb6\\xfb\\xc6a\\x12\\xae\\x95\\x1f\\xda\\xc5\\x13\\xde\\x06|Q\\x96')\n",
      "bytearray(b'\\xc5\\xec\\xcdd\\xa4(R*\\xf0L*QtL\\xda\\x81')\n",
      "bytearray(b'p\\xca \\xd8\\x9c\\xeb\\xe6\\xb1\\xce\\xcf\\x03\\xb2\\x9e\\x93\\x19\\xbc')\n"
     ]
    }
   ],
   "source": [
    "comp = davies_meyer(AES_128, 16, 16)\n",
    "hash = merkle_damgard(bytearray (b'1234567890123456'), comp, 16)\n",
    "s1 = bytearray(b'Este es un mensaje de prueba para la tarea 2')\n",
    "s2 = bytearray(b'Este es un mensaje de Prueba para la tarea 2')\n",
    "s3 = bytearray(b'Un mensaje corto')\n",
    "s4 = bytearray(b'')\n",
    "\n",
    "h1 = hash(s1)\n",
    "h2 = hash(s2)\n",
    "h3 = hash(s3)\n",
    "h4 = hash(s4)\n",
    "\n",
    "print(h1)\n",
    "print(h2)\n",
    "print(h3)\n",
    "print(h4)"
   ]
  }
 ],
 "metadata": {
  "kernelspec": {
   "display_name": "Python 3",
   "language": "python",
   "name": "python3"
  },
  "language_info": {
   "codemirror_mode": {
    "name": "ipython",
    "version": 3
   },
   "file_extension": ".py",
   "mimetype": "text/x-python",
   "name": "python",
   "nbconvert_exporter": "python",
   "pygments_lexer": "ipython3",
   "version": "3.7.8"
  }
 },
 "nbformat": 4,
 "nbformat_minor": 4
}
