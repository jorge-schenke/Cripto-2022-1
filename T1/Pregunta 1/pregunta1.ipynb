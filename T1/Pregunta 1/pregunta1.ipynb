{
 "cells": [
  {
   "cell_type": "markdown",
   "metadata": {},
   "source": [
    "# Pregunta 1 <br>\n",
    "## Jorge Schenke Larraín\n",
    "### n°: 17641624"
   ]
  },
  {
   "cell_type": "markdown",
   "metadata": {},
   "source": [
    "### Funciones base:"
   ]
  },
  {
   "cell_type": "markdown",
   "metadata": {},
   "source": [
    "Función capáz de recibir una lista de letras y transformarla en un diccionario con la posición de cada letra según el orden de la lista entregada:"
   ]
  },
  {
   "cell_type": "code",
   "execution_count": 2,
   "metadata": {},
   "outputs": [],
   "source": [
    "def create_dictionary(alphabet):\n",
    "    dictionary = {}\n",
    "    for i in range(len(alphabet)):\n",
    "        dictionary[alphabet[i]] = i\n",
    "    return dictionary"
   ]
  },
  {
   "cell_type": "markdown",
   "metadata": {},
   "source": [
    "Función que recibe un diccionario y una cadena de caracteres, y devuelve una cadena de caracteres con los valores de las letras del alfabeto correspondientes a la posición de la letra en la cadena de caracteres recibida:"
   ]
  },
  {
   "cell_type": "code",
   "execution_count": 3,
   "metadata": {},
   "outputs": [],
   "source": [
    "def string_to_index_string(dictionary, cipher):\n",
    "    new_string = []\n",
    "    for i in range(len(cipher)):\n",
    "        new_string.append((dictionary[cipher[i]]))\n",
    "    return new_string"
   ]
  },
  {
   "cell_type": "markdown",
   "metadata": {},
   "source": [
    "Función que recibe una clave y un mensaje, y devuelve un mensaje cifrado con la clave recibida:"
   ]
  },
  {
   "cell_type": "code",
   "execution_count": 4,
   "metadata": {},
   "outputs": [],
   "source": [
    "def Enc(key, message, alphabet):\n",
    "    message_index = string_to_index_string(alphabet, message)\n",
    "    key_index = string_to_index_string(alphabet, key)\n",
    "    cript = \"\"\n",
    "    c = []\n",
    "    letras = list(alphabet.keys())\n",
    "    for i in range(len(message)):\n",
    "        ci = ((message_index[i]) + (key_index[i % len(key)])) % len(alphabet)\n",
    "        c.append(letras[ci])\n",
    "    for letra in c:\n",
    "        cript += letra\n",
    "    return cript"
   ]
  },
  {
   "cell_type": "markdown",
   "metadata": {},
   "source": [
    "Función que recibe una clave y un mensaje, y devuelve un mensaje decriptado\n",
    "    con la clave recibida."
   ]
  },
  {
   "cell_type": "code",
   "execution_count": 5,
   "metadata": {},
   "outputs": [],
   "source": [
    "def Dec(key, message, alphabet):\n",
    "    message_index = string_to_index_string(alphabet, message)\n",
    "    key_index = string_to_index_string(alphabet, key)\n",
    "    msg = \"\"\n",
    "    m = []\n",
    "    letras = list(alphabet.keys())\n",
    "    for i in range(len(message)):\n",
    "        mi = (int(message_index[i]) - int(key_index[i % len(key_index)])) % len(alphabet)\n",
    "        m.append(letras[mi])\n",
    "    for letra in m:\n",
    "        msg += letra\n",
    "    return msg"
   ]
  },
  {
   "cell_type": "markdown",
   "metadata": {},
   "source": [
    "### Función para quebrar RP:"
   ]
  },
  {
   "cell_type": "markdown",
   "metadata": {},
   "source": [
    "La función recibe un mensaje cifrado, un diccionario con las frecuencias\n",
    "    de las letras del alfabeto y una distancia, y devuelve una cadena de\n",
    "    caracteres con la clave más probable:"
   ]
  },
  {
   "cell_type": "code",
   "execution_count": 37,
   "metadata": {},
   "outputs": [],
   "source": [
    "def break_rp(ciphertext, frequencies, distance):\n",
    "    max_lenght = int(len(ciphertext)/50)  #Largo máximo de la clave\n",
    "    keys = []\n",
    "    for i in range (1, max_lenght+1):\n",
    "        key = \"\"\n",
    "        j = 0\n",
    "        while len(key)< i:\n",
    "            while j < i:\n",
    "                word = \"\"\n",
    "                k = j\n",
    "                while k < len(ciphertext):  #Generamos el string que le corresponde cifrar a cada letra de la clave\n",
    "                    word += ciphertext[k]\n",
    "                    k += i\n",
    "                menor = {\"letra\":\"#\", \"distance\":1}  #Buscaremos la letra cuyo descifrado tenga frecuencias parecidas a las dadas.\n",
    "                alphabet = create_dictionary(list(frequencies.keys()))\n",
    "                for letra in alphabet.keys():\n",
    "                    dec = Dec(letra, word, alphabet)\n",
    "                    if distance(dec, frequencies) < menor[\"distance\"]:\n",
    "                        menor[\"letra\"] = letra\n",
    "                        menor[\"distance\"] = distance(dec, frequencies)\n",
    "                key += menor[\"letra\"]  #Agregamos la mejor letra encontrada a la potencial clave.\n",
    "                j += 1\n",
    "        keys.append(key)  #Hacemos una lista de claves con los largos posibles\n",
    "    mejor = {\"key\":\"#\", \"distance\":1}\n",
    "    for key in keys:  #Buscamos la mejor clave de las postulantes según la frecuencia de sus descifrados y la retornamos\n",
    "        dec = Dec(key, ciphertext, alphabet)\n",
    "        if distance(dec, frequencies) < mejor[\"distance\"]:\n",
    "            mejor[\"key\"] = key\n",
    "            mejor[\"distance\"] = distance(dec, frequencies)\n",
    "    return mejor[\"key\"]"
   ]
  },
  {
   "cell_type": "markdown",
   "metadata": {},
   "source": [
    "### Ejemplo de prueba:"
   ]
  },
  {
   "cell_type": "markdown",
   "metadata": {},
   "source": [
    "Función que recibe un mensaje cifrado y un diccionario con las frecuencias\n",
    "    de las letras del alfabeto, y devuelve una distancia:"
   ]
  },
  {
   "cell_type": "code",
   "execution_count": 8,
   "metadata": {},
   "outputs": [],
   "source": [
    "def distance_abs(ciphertext, frequencies):\n",
    "    return sum([\n",
    "        abs ( frequencies[c] - ciphertext.count(c) / len(ciphertext))\n",
    "        for c in frequencies\n",
    "    ])"
   ]
  },
  {
   "cell_type": "markdown",
   "metadata": {},
   "source": [
    "Frecuencia de letras del diccionario:"
   ]
  },
  {
   "cell_type": "code",
   "execution_count": 38,
   "metadata": {},
   "outputs": [],
   "source": [
    "letterFrequency = {'E' : 0.12,\n",
    "'T' : 0.0910,\n",
    "'A' : 0.0812,\n",
    "'O' : 0.0768,\n",
    "'I' : 0.0731,\n",
    "'N' : 0.0695,\n",
    "'S' : 0.0628,\n",
    "'R' : 0.0602,\n",
    "'H' : 0.0592,\n",
    "'D' : 0.0432,\n",
    "'L' : 0.0398,\n",
    "'U' : 0.0288,\n",
    "'C' : 0.0271,\n",
    "'M' : 0.0261,\n",
    "'F' : 0.0230,\n",
    "'Y' : 0.0211,\n",
    "'W' : 0.0209,\n",
    "'G' : 0.0203,\n",
    "'P' : 0.0182,\n",
    "'B' : 0.0149,\n",
    "'V' : 0.0111,\n",
    "'K' : 0.0069,\n",
    "'X' : 0.0017,\n",
    "'Q' : 0.0011,\n",
    "'J' : 0.0010,\n",
    "'Z' : 0.0007 }"
   ]
  },
  {
   "cell_type": "markdown",
   "metadata": {},
   "source": [
    "Mensaje original y encriptación:"
   ]
  },
  {
   "cell_type": "code",
   "execution_count": 34,
   "metadata": {},
   "outputs": [],
   "source": [
    "dict = create_dictionary(list(letterFrequency.keys()))\n",
    "mensaje = (\"Nopersonshallbeheldtoanswerforacapitalorotherwiseinfamouscrimeunlessonapresentmentorindictmentofagrandjuryexceptincasesarisinginthelandornavalforcesorinthemilitiawheninactualserviceintimeofwarorpublicdangernorshallanypersonbesubjectforthesameoffensetobetwiceputinjeopardyoflifeorlimbnorshallbecompelledinanycriminalcasetobeawitnessagainsthimself\".upper())\n",
    "cript = Enc(\"ABCDE\", mensaje, dict)"
   ]
  },
  {
   "cell_type": "markdown",
   "metadata": {},
   "source": [
    "Descubrimiento de la clave:"
   ]
  },
  {
   "cell_type": "code",
   "execution_count": 35,
   "metadata": {},
   "outputs": [
    {
     "name": "stdout",
     "output_type": "stream",
     "text": [
      "Clave más probable: ABCDE\n"
     ]
    }
   ],
   "source": [
    "print(f\"Clave más probable: {break_rp(cript, letterFrequency, distance_abs)}\")"
   ]
  },
  {
   "cell_type": "markdown",
   "metadata": {},
   "source": [
    "Confirmación:"
   ]
  },
  {
   "cell_type": "code",
   "execution_count": 36,
   "metadata": {},
   "outputs": [
    {
     "name": "stdout",
     "output_type": "stream",
     "text": [
      "Mensaje más probable: NOPERSONSHALLBEHELDTOANSWERFORACAPITALOROTHERWISEINFAMOUSCRIMEUNLESSONAPRESENTMENTORINDICTMENTOFAGRANDJURYEXCEPTINCASESARISINGINTHELANDORNAVALFORCESORINTHEMILITIAWHENINACTUALSERVICEINTIMEOFWARORPUBLICDANGERNORSHALLANYPERSONBESUBJECTFORTHESAMEOFFENSETOBETWICEPUTINJEOPARDYOFLIFEORLIMBNORSHALLBECOMPELLEDINANYCRIMINALCASETOBEAWITNESSAGAINSTHIMSELF\n"
     ]
    }
   ],
   "source": [
    "print(f\"Mensaje más probable: {Dec(break_rp(cript, letterFrequency, distance_abs), cript, dict)}\")"
   ]
  },
  {
   "cell_type": "code",
   "execution_count": null,
   "metadata": {},
   "outputs": [],
   "source": []
  }
 ],
 "metadata": {
  "kernelspec": {
   "display_name": "Python 3",
   "language": "python",
   "name": "python3"
  },
  "language_info": {
   "codemirror_mode": {
    "name": "ipython",
    "version": 3
   },
   "file_extension": ".py",
   "mimetype": "text/x-python",
   "name": "python",
   "nbconvert_exporter": "python",
   "pygments_lexer": "ipython3",
   "version": "3.7.8"
  }
 },
 "nbformat": 4,
 "nbformat_minor": 4
}
