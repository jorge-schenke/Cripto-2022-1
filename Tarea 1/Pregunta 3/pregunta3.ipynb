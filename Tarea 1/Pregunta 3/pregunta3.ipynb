{
 "cells": [
  {
   "cell_type": "markdown",
   "metadata": {},
   "source": [
    "# Pregunta 3\n",
    "## Jorge Schenke Larraín\n",
    "### n°: 17641624"
   ]
  },
  {
   "cell_type": "markdown",
   "metadata": {},
   "source": [
    "Lo primero que haremos será definir la clase Leaf la cual tendrá los siguientes atributois:\n",
    "<ul>\n",
    "    <li>hash (string)</li>\n",
    "    <li>children (List(Leafs))</li>\n",
    "    <li>parent (Leaf)</li>\n",
    "</ul>"
   ]
  },
  {
   "cell_type": "code",
   "execution_count": 2,
   "metadata": {},
   "outputs": [],
   "source": [
    "import hashlib"
   ]
  },
  {
   "cell_type": "code",
   "execution_count": 3,
   "metadata": {},
   "outputs": [],
   "source": [
    "class Leaf:\n",
    "    def __init__(self, hash):\n",
    "        self.hash = hash\n",
    "        self.children = []\n",
    "        self.parent = None"
   ]
  },
  {
   "cell_type": "markdown",
   "metadata": {},
   "source": [
    "Ahora que tenemos la clase Leaf, podemos definir la clase MerkleTree, sus atributos serán los siguientes:\n",
    "<ul>\n",
    "    <li>leafs (List(Leafs))</li>\n",
    "    <li>hash (Function)</li>\n",
    "    <li>root (Leaf)</li>\n",
    "</ul>\n",
    "Y contará con los siguientes métodos:\n",
    "<ul>\n",
    "    <li>self.parent(leaf1, leaf2): recibe 2 hojas y crea el padre a partir de los hashes de las hojas.</li>\n",
    "    <li>self.create_tree(leafs): Crea el árbol a partir de sus hojas utilizando la función self.parent de forma recursiva.</li>\n",
    "    <li>self.get_proof_for(string): Retorna una prueba de que cierto elemento es o no parte de las hojas del árbol</li>\n",
    "    <li>self.display(node): Imprime todos los nodos descendientes desde el nodo entregado</li>\n",
    "    <li>self.get_root(): retorna la raíz del nodo</li>\n",
    "</ul>"
   ]
  },
  {
   "cell_type": "code",
   "execution_count": 10,
   "metadata": {},
   "outputs": [],
   "source": [
    "class MerkleTree:\n",
    "    def __init__(self, strings, hash_func):\n",
    "        self.hash = hash_func\n",
    "        leafs = []\n",
    "        for string in strings:\n",
    "            leaf = Leaf(self.hash(string))\n",
    "            leafs.append(leaf)\n",
    "        self.leafs = leafs\n",
    "        self.root = Leaf\n",
    "        self.create_tree(self.leafs)\n",
    "\n",
    "    def parent(self, leaf1, leaf2):\n",
    "        parent_hash = self.hash(leaf1.hash + leaf2.hash)\n",
    "        parent_leaf = Leaf(parent_hash)\n",
    "        leaf1.parent = parent_leaf\n",
    "        leaf2.parent = parent_leaf\n",
    "        parent_leaf.children = [leaf1, leaf2]\n",
    "        return parent_leaf\n",
    "\n",
    "    \n",
    "    def create_tree(self, leafs):\n",
    "        if len(leafs) > 1:\n",
    "            parents = []\n",
    "            par = (len(leafs) % 2 == 0)\n",
    "            if not par:\n",
    "                leafs.append(Leaf(leafs[-1].hash))\n",
    "            i = 0\n",
    "            while i < len(leafs):\n",
    "                leaf1 = leafs[i]\n",
    "                leaf2 = leafs[i+1]\n",
    "                parents.append(self.parent(leaf1, leaf2))\n",
    "                i += 2\n",
    "            self.create_tree(parents)\n",
    "        else:\n",
    "            self.root = leafs[0]\n",
    "            return self.root\n",
    "\n",
    "    def get_proof_for(self, string):\n",
    "        bros = None\n",
    "        hash = self.hash(string)\n",
    "        for leaf in self.leafs:\n",
    "            if leaf.hash == hash:\n",
    "                bros = []\n",
    "                while leaf.parent is not None:\n",
    "                    for child in leaf.parent.children:\n",
    "                        if child != leaf:\n",
    "                            place = leaf.parent.children.index(child)\n",
    "                            if place == 0:\n",
    "                                p = \"i\"\n",
    "                            else:\n",
    "                                p = \"d\"\n",
    "                            bros.append((child.hash, p))\n",
    "                    leaf = leaf.parent\n",
    "                break\n",
    "        \n",
    "        return bros\n",
    "\n",
    "\n",
    "    def display(self, node):\n",
    "        print(f\"Nodo:{node.hash}\")\n",
    "        if node.parent is not None:\n",
    "            print(f\"Parent: {node.parent.hash}\")\n",
    "        if len(node.children) > 0:\n",
    "            print(\"Hijos:\")\n",
    "            for child in node.children:\n",
    "                print(f\"- {child.hash}\")\n",
    "            for child in node.children:\n",
    "                self.display(child)\n",
    "        else:\n",
    "            print(\"Soy hoja\")\n",
    "\n",
    "    def get_root(self):\n",
    "        print(f\"root: {self.root.hash}\")\n",
    "        return self.root.hash"
   ]
  },
  {
   "cell_type": "markdown",
   "metadata": {},
   "source": [
    "Ahora definamos la función verify:"
   ]
  },
  {
   "cell_type": "code",
   "execution_count": 11,
   "metadata": {},
   "outputs": [],
   "source": [
    "def verify(root, string, proof, hash):\n",
    "        next = hash(string)\n",
    "        if proof is not None:\n",
    "            for bro in proof:\n",
    "                if bro[1] == \"d\":\n",
    "                    next = hash(next + bro[0])\n",
    "                else:\n",
    "                    next = hash(bro[0] + next)\n",
    "        if next == root:\n",
    "            return True\n",
    "        else:\n",
    "            return False"
   ]
  },
  {
   "cell_type": "markdown",
   "metadata": {},
   "source": [
    "Veamos un ejemplo sencillo:<br>\n",
    "Como función de \"hash\" utilizaremos una función que retorna el string entregado"
   ]
  },
  {
   "cell_type": "code",
   "execution_count": 12,
   "metadata": {},
   "outputs": [],
   "source": [
    "def hashe(string):\n",
    "    return hashlib.md5(string.encode()).hexdigest()\n",
    "\n",
    "Merkl = MerkleTree([\"a\", \"b\", \"c\"], hashe)"
   ]
  },
  {
   "cell_type": "markdown",
   "metadata": {},
   "source": [
    "Mostremos el árbol completo:"
   ]
  },
  {
   "cell_type": "code",
   "execution_count": 13,
   "metadata": {},
   "outputs": [
    {
     "name": "stdout",
     "output_type": "stream",
     "text": [
      "Nodo:d54ff7d0c3b219bcd40fc4107d0ab4f5\n",
      "Hijos:\n",
      "- 3bc22fb7aaebe9c8c5d7de312b876bb8\n",
      "- 12730a37aa9d6d931096130616fead25\n",
      "Nodo:3bc22fb7aaebe9c8c5d7de312b876bb8\n",
      "Parent: d54ff7d0c3b219bcd40fc4107d0ab4f5\n",
      "Hijos:\n",
      "- 0cc175b9c0f1b6a831c399e269772661\n",
      "- 92eb5ffee6ae2fec3ad71c777531578f\n",
      "Nodo:0cc175b9c0f1b6a831c399e269772661\n",
      "Parent: 3bc22fb7aaebe9c8c5d7de312b876bb8\n",
      "Soy hoja\n",
      "Nodo:92eb5ffee6ae2fec3ad71c777531578f\n",
      "Parent: 3bc22fb7aaebe9c8c5d7de312b876bb8\n",
      "Soy hoja\n",
      "Nodo:12730a37aa9d6d931096130616fead25\n",
      "Parent: d54ff7d0c3b219bcd40fc4107d0ab4f5\n",
      "Hijos:\n",
      "- 4a8a08f09d37b73795649038408b5f33\n",
      "- 4a8a08f09d37b73795649038408b5f33\n",
      "Nodo:4a8a08f09d37b73795649038408b5f33\n",
      "Parent: 12730a37aa9d6d931096130616fead25\n",
      "Soy hoja\n",
      "Nodo:4a8a08f09d37b73795649038408b5f33\n",
      "Parent: 12730a37aa9d6d931096130616fead25\n",
      "Soy hoja\n"
     ]
    }
   ],
   "source": [
    "Merkl.display(Merkl.root)"
   ]
  },
  {
   "cell_type": "markdown",
   "metadata": {},
   "source": [
    "Busquemos la ráiz del árbol:"
   ]
  },
  {
   "cell_type": "code",
   "execution_count": 14,
   "metadata": {},
   "outputs": [
    {
     "name": "stdout",
     "output_type": "stream",
     "text": [
      "root: d54ff7d0c3b219bcd40fc4107d0ab4f5\n"
     ]
    },
    {
     "data": {
      "text/plain": [
       "'d54ff7d0c3b219bcd40fc4107d0ab4f5'"
      ]
     },
     "execution_count": 14,
     "metadata": {},
     "output_type": "execute_result"
    }
   ],
   "source": [
    "Merkl.get_root()"
   ]
  },
  {
   "cell_type": "markdown",
   "metadata": {},
   "source": [
    "Busquemos una hoja que existe:"
   ]
  },
  {
   "cell_type": "code",
   "execution_count": 15,
   "metadata": {},
   "outputs": [
    {
     "name": "stdout",
     "output_type": "stream",
     "text": [
      "Aquitoy\n",
      "[('4a8a08f09d37b73795649038408b5f33', 'd'), ('3bc22fb7aaebe9c8c5d7de312b876bb8', 'i')]\n"
     ]
    }
   ],
   "source": [
    "proof = Merkl.get_proof_for(\"c\")\n",
    "print(proof)"
   ]
  },
  {
   "cell_type": "markdown",
   "metadata": {},
   "source": [
    "Ahora una inexistente:"
   ]
  },
  {
   "cell_type": "code",
   "execution_count": 16,
   "metadata": {},
   "outputs": [
    {
     "name": "stdout",
     "output_type": "stream",
     "text": [
      "None\n"
     ]
    }
   ],
   "source": [
    "not_proof = Merkl.get_proof_for(\"x\")\n",
    "print(not_proof)"
   ]
  },
  {
   "cell_type": "markdown",
   "metadata": {},
   "source": [
    "Probemos la función verify con el ejemplo anterior:"
   ]
  },
  {
   "cell_type": "code",
   "execution_count": 17,
   "metadata": {},
   "outputs": [
    {
     "name": "stdout",
     "output_type": "stream",
     "text": [
      "True\n"
     ]
    }
   ],
   "source": [
    "print(verify(\"d54ff7d0c3b219bcd40fc4107d0ab4f5\", \"c\", proof, Merkl.hash))"
   ]
  },
  {
   "cell_type": "code",
   "execution_count": 18,
   "metadata": {},
   "outputs": [
    {
     "name": "stdout",
     "output_type": "stream",
     "text": [
      "False\n"
     ]
    }
   ],
   "source": [
    "print(verify(\"abcc\", \"x\", not_proof, Merkl.hash))"
   ]
  },
  {
   "cell_type": "markdown",
   "metadata": {},
   "source": [
    "Podemos ver que la función cumple correctamente y es capaz de diferenciar pruebas válidas."
   ]
  }
 ],
 "metadata": {
  "kernelspec": {
   "display_name": "Python 3",
   "language": "python",
   "name": "python3"
  },
  "language_info": {
   "codemirror_mode": {
    "name": "ipython",
    "version": 3
   },
   "file_extension": ".py",
   "mimetype": "text/x-python",
   "name": "python",
   "nbconvert_exporter": "python",
   "pygments_lexer": "ipython3",
   "version": "3.7.8"
  }
 },
 "nbformat": 4,
 "nbformat_minor": 4
}
